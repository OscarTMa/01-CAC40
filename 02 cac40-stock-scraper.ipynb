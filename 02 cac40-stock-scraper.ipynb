{
 "cells": [
  {
   "cell_type": "markdown",
   "id": "63a8f561",
   "metadata": {
    "papermill": {
     "duration": 0.004417,
     "end_time": "2023-04-08T14:22:32.857670",
     "exception": false,
     "start_time": "2023-04-08T14:22:32.853253",
     "status": "completed"
    },
    "tags": []
   },
   "source": [
    "<div align='center'><font size=\"5\" color='#353B47'>Scrap Stock Price</font></div>\n",
    "<div align='center'><font size=\"4\" color=\"#353B47\">CAC40</font></div>\n",
    "<br>\n",
    "<hr>"
   ]
  },
  {
   "cell_type": "markdown",
   "id": "4a2572d9",
   "metadata": {
    "papermill": {
     "duration": 0.002971,
     "end_time": "2023-04-08T14:22:32.864275",
     "exception": false,
     "start_time": "2023-04-08T14:22:32.861304",
     "status": "completed"
    },
    "tags": []
   },
   "source": [
    "**<font color=\"#5963ab\" size=\"4\">Context</font>**\n",
    "\n",
    "> This notebook is designed to demonstrate a concise script for scraping CAC40 stock prices utilizing yfinance library. You can retrieve the scraped data <a href=\"https://www.kaggle.com/datasets/bryanb/cac40-stocks-dataset\">here</a>"
   ]
  },
  {
   "cell_type": "markdown",
   "id": "1b6c5494",
   "metadata": {
    "papermill": {
     "duration": 0.002945,
     "end_time": "2023-04-08T14:22:32.870519",
     "exception": false,
     "start_time": "2023-04-08T14:22:32.867574",
     "status": "completed"
    },
    "tags": []
   },
   "source": [
    "<h1 style=\"color:white;background:#5963ab;border-radius:5px;padding:30px;font-family:'Arial', cursive;font-size:50px;text-align:center\">Imports</h1>"
   ]
  },
  {
   "cell_type": "code",
   "execution_count": 2,
   "id": "73091376",
   "metadata": {
    "papermill": {
     "duration": 12.534216,
     "end_time": "2023-04-08T14:22:45.407908",
     "exception": false,
     "start_time": "2023-04-08T14:22:32.873692",
     "status": "completed"
    },
    "tags": []
   },
   "outputs": [],
   "source": [
    "#!pip install yfinance"
   ]
  },
  {
   "cell_type": "code",
   "execution_count": 3,
   "id": "f23ba9e5",
   "metadata": {
    "papermill": {
     "duration": 0.216551,
     "end_time": "2023-04-08T14:22:45.628700",
     "exception": false,
     "start_time": "2023-04-08T14:22:45.412149",
     "status": "completed"
    },
    "tags": []
   },
   "outputs": [],
   "source": [
    "import yfinance as yf\n",
    "import datetime\n",
    "import csv\n",
    "import pandas as pd"
   ]
  },
  {
   "cell_type": "markdown",
   "id": "adf65d7b",
   "metadata": {
    "papermill": {
     "duration": 0.003764,
     "end_time": "2023-04-08T14:22:45.636597",
     "exception": false,
     "start_time": "2023-04-08T14:22:45.632833",
     "status": "completed"
    },
    "tags": []
   },
   "source": [
    "<h1 style=\"color:white;background:#5963ab;border-radius:5px;padding:30px;font-family:'Arial', cursive;font-size:50px;text-align:center\">Settings</h1>"
   ]
  },
  {
   "cell_type": "code",
   "execution_count": 4,
   "id": "8cfb2b8d",
   "metadata": {
    "papermill": {
     "duration": 0.018843,
     "end_time": "2023-04-08T14:22:45.659399",
     "exception": false,
     "start_time": "2023-04-08T14:22:45.640556",
     "status": "completed"
    },
    "tags": []
   },
   "outputs": [],
   "source": [
    "# Define date range and list Stocks, Last three year\n",
    "start_date = datetime.datetime.now() - datetime.timedelta(days=365*3)\n",
    "end_date = datetime.datetime.now()\n",
    "\n",
    "# List of CAC40 stock symbols\n",
    "cac40_stocks = [\n",
    "    'AC.PA',    # Accor\n",
    "    'AI.PA',    # Air Liquide\n",
    "    'AIR.PA',   # Airbus\n",
    "    'ALO.PA',   # Alstom\n",
    "    'MT.PA',    # ArcelorMittal\n",
    "    'CS.PA',    # AXA\n",
    "    'BN.PA',    # Danone\n",
    "    'EN.PA',    # Bouygues\n",
    "    'CAP.PA',   # Capgemini\n",
    "    'CA.PA',    # Carrefour\n",
    "    'ACA.PA',   # Crédit Agricole\n",
    "    'BNP.PA',   # BNP Paribas\n",
    "    'ENGI.PA',  # ENGIE\n",
    "    'EL.PA',    # EssilorLuxottica\n",
    "    'RMS.PA',   # Hermès\n",
    "    'OR.PA',    # L'Oréal\n",
    "    'LR.PA',    # Legrand\n",
    "    'MC.PA',    # LVMH\n",
    "    'ML.PA',    # Michelin\n",
    "    'ORA.PA',   # Orange\n",
    "    'RI.PA',    # Pernod Ricard\n",
    "    'UG.PA',    # Peugeot\n",
    "    'PUB.PA',   # Publicis Groupe\n",
    "    'RNO.PA',   # Renault\n",
    "    'SAF.PA',   # Safran\n",
    "    'SGO.PA',   # Saint-Gobain\n",
    "    'SAN.PA',   # Sanofi\n",
    "    'SU.PA',    # Schneider Electric\n",
    "    'GLE.PA',   # Société Générale\n",
    "    'SW.PA',    # Sodexo\n",
    "    'STM.PA',   # STMicroelectronics\n",
    "    'HO.PA',    # Thales\n",
    "    'FP.PA',    # TotalEnergies\n",
    "    'ATO.PA',   # Atos\n",
    "    'VIE.PA',   # Veolia\n",
    "    'DG.PA',    # Vinci\n",
    "    'VIV.PA',   # Vivendi\n",
    "    'WLN.PA',   # Worldline\n",
    "    'KER.PA',   # Kering\n",
    "    'FR.PA'     # Valeo\n",
    "]"
   ]
  },
  {
   "cell_type": "markdown",
   "id": "1ba8d9c8",
   "metadata": {
    "papermill": {
     "duration": 0.003733,
     "end_time": "2023-04-08T14:22:45.667316",
     "exception": false,
     "start_time": "2023-04-08T14:22:45.663583",
     "status": "completed"
    },
    "tags": []
   },
   "source": [
    "<h1 style=\"color:white;background:#5963ab;border-radius:5px;padding:30px;font-family:'Arial', cursive;font-size:50px;text-align:center\">Download</h1>"
   ]
  },
  {
   "cell_type": "code",
   "execution_count": 5,
   "id": "39cdf123",
   "metadata": {
    "papermill": {
     "duration": 0.015202,
     "end_time": "2023-04-08T14:22:45.686386",
     "exception": false,
     "start_time": "2023-04-08T14:22:45.671184",
     "status": "completed"
    },
    "tags": []
   },
   "outputs": [],
   "source": [
    "# Function to download stock data\n",
    "def download_stock_data(stock, start_date, end_date):\n",
    "    \"\"\"\n",
    "    Download historical stock data from Yahoo Finance for a given stock symbol and date range.\n",
    "\n",
    "    :param stock: The stock symbol (ticker) for which to download the data, e.g., 'AAPL' for Apple Inc.\n",
    "    :type stock: str\n",
    "    :param start_date: The start date for the historical data range, as a datetime object.\n",
    "    :type start_date: datetime.datetime\n",
    "    :param end_date: The end date for the historical data range, as a datetime object.\n",
    "    :type end_date: datetime.datetime\n",
    "    :return: A pandas DataFrame containing historical stock data for the specified stock and date range.\n",
    "             The DataFrame has the following columns: 'Date', 'Open', 'High', 'Low', 'Close', 'Adj Close', 'Volume', 'Stock'.\n",
    "    :rtype: pandas.DataFrame\n",
    "    \"\"\"\n",
    "    # Download the historical stock data for the given stock symbol and date range\n",
    "    stock_data = yf.download(stock, start=start_date, end=end_date)\n",
    "\n",
    "    # Reset the DataFrame index to make 'Date' a column instead of the index\n",
    "    stock_data.reset_index(inplace=True)\n",
    "\n",
    "    # Add a 'Stock' column to the DataFrame and set its value to the stock symbol\n",
    "    stock_data['Stock'] = stock\n",
    "\n",
    "    return stock_data"
   ]
  },
  {
   "cell_type": "code",
   "execution_count": 6,
   "id": "478acc46",
   "metadata": {
    "papermill": {
     "duration": 0.015142,
     "end_time": "2023-04-08T14:22:45.705713",
     "exception": false,
     "start_time": "2023-04-08T14:22:45.690571",
     "status": "completed"
    },
    "tags": []
   },
   "outputs": [],
   "source": [
    "def aggregate_stocks(stocks, output_path, start_date, end_date):\n",
    "    \"\"\"\n",
    "    Download historical stock data for a list of stock symbols and save the data in a CSV file.\n",
    "\n",
    "    :param stocks: A list of stock symbols (tickers) for which to download historical data.\n",
    "    :type stocks: list of str\n",
    "    :param output_path: The file path where the aggregated stock data will be saved as a CSV file.\n",
    "    :type output_path: str\n",
    "    :param start_date: The start date for the historical data range, as a datetime object.\n",
    "    :type start_date: datetime.datetime\n",
    "    :param end_date: The end date for the historical data range, as a datetime object.\n",
    "    :type end_date: datetime.datetime\n",
    "    :return: A pandas DataFrame containing historical stock data for the specified stocks and date range.\n",
    "             The DataFrame has the following columns: 'Date', 'Open', 'High', 'Low', 'Close', 'Adj Close', 'Volume', 'Stock'.\n",
    "    :rtype: pandas.DataFrame\n",
    "    \"\"\"\n",
    "    # Initialize an empty list to store the DataFrames for each stock\n",
    "    all_stock_data = []\n",
    "\n",
    "    # Download stock data for each stock symbol in the list\n",
    "    for stock in stocks:\n",
    "        stock_data = download_stock_data(stock, start_date, end_date)\n",
    "        all_stock_data.append(stock_data)\n",
    "\n",
    "    # Concatenate the DataFrames for each stock into a single DataFrame\n",
    "    all_stock_data_df = pd.concat(all_stock_data, ignore_index=True)\n",
    "\n",
    "    # Save the aggregated stock data to a CSV file\n",
    "    all_stock_data_df.to_csv(output_path, index=False)\n",
    "    \n",
    "    return all_stock_data_df"
   ]
  },
  {
   "cell_type": "code",
   "execution_count": 7,
   "id": "c6f39786",
   "metadata": {
    "papermill": {
     "duration": 12.67296,
     "end_time": "2023-04-08T14:22:58.382882",
     "exception": false,
     "start_time": "2023-04-08T14:22:45.709922",
     "status": "completed"
    },
    "tags": []
   },
   "outputs": [
    {
     "name": "stderr",
     "output_type": "stream",
     "text": [
      "[*********************100%%**********************]  1 of 1 completed\n",
      "[*********************100%%**********************]  1 of 1 completed\n",
      "[*********************100%%**********************]  1 of 1 completed\n",
      "[*********************100%%**********************]  1 of 1 completed\n",
      "[*********************100%%**********************]  1 of 1 completed\n",
      "\n",
      "1 Failed download:\n",
      "['MT.PA']: Exception('%ticker%: No price data found, symbol may be delisted (1d 2021-05-17 16:35:46.997772 -> 2024-05-16 16:35:46.997772)')\n",
      "[*********************100%%**********************]  1 of 1 completed\n",
      "[*********************100%%**********************]  1 of 1 completed\n",
      "[*********************100%%**********************]  1 of 1 completed\n",
      "[*********************100%%**********************]  1 of 1 completed\n",
      "[*********************100%%**********************]  1 of 1 completed\n",
      "[*********************100%%**********************]  1 of 1 completed\n",
      "[*********************100%%**********************]  1 of 1 completed\n",
      "[*********************100%%**********************]  1 of 1 completed\n",
      "[*********************100%%**********************]  1 of 1 completed\n",
      "[*********************100%%**********************]  1 of 1 completed\n",
      "[*********************100%%**********************]  1 of 1 completed\n",
      "[*********************100%%**********************]  1 of 1 completed\n",
      "[*********************100%%**********************]  1 of 1 completed\n",
      "[*********************100%%**********************]  1 of 1 completed\n",
      "[*********************100%%**********************]  1 of 1 completed\n",
      "[*********************100%%**********************]  1 of 1 completed\n",
      "[*********************100%%**********************]  1 of 1 completed\n",
      "\n",
      "1 Failed download:\n",
      "['UG.PA']: Exception('%ticker%: No timezone found, symbol may be delisted')\n",
      "[*********************100%%**********************]  1 of 1 completed\n",
      "[*********************100%%**********************]  1 of 1 completed\n",
      "[*********************100%%**********************]  1 of 1 completed\n",
      "[*********************100%%**********************]  1 of 1 completed\n",
      "[*********************100%%**********************]  1 of 1 completed\n",
      "[*********************100%%**********************]  1 of 1 completed\n",
      "[*********************100%%**********************]  1 of 1 completed\n",
      "[*********************100%%**********************]  1 of 1 completed\n",
      "[*********************100%%**********************]  1 of 1 completed\n",
      "\n",
      "1 Failed download:\n",
      "['STM.PA']: Exception('%ticker%: No timezone found, symbol may be delisted')\n",
      "[*********************100%%**********************]  1 of 1 completed\n",
      "[*********************100%%**********************]  1 of 1 completed\n",
      "\n",
      "1 Failed download:\n",
      "['FP.PA']: Exception('%ticker%: No timezone found, symbol may be delisted')\n",
      "[*********************100%%**********************]  1 of 1 completed\n",
      "[*********************100%%**********************]  1 of 1 completed\n",
      "[*********************100%%**********************]  1 of 1 completed\n",
      "[*********************100%%**********************]  1 of 1 completed\n",
      "[*********************100%%**********************]  1 of 1 completed\n",
      "[*********************100%%**********************]  1 of 1 completed\n",
      "[*********************100%%**********************]  1 of 1 completed\n",
      "C:\\Users\\oscar\\AppData\\Local\\Temp\\ipykernel_13848\\4222929350.py:26: FutureWarning: The behavior of DataFrame concatenation with empty or all-NA entries is deprecated. In a future version, this will no longer exclude empty or all-NA columns when determining the result dtypes. To retain the old behavior, exclude the relevant entries before the concat operation.\n",
      "  all_stock_data_df = pd.concat(all_stock_data, ignore_index=True)\n"
     ]
    },
    {
     "data": {
      "text/html": [
       "<div>\n",
       "<style scoped>\n",
       "    .dataframe tbody tr th:only-of-type {\n",
       "        vertical-align: middle;\n",
       "    }\n",
       "\n",
       "    .dataframe tbody tr th {\n",
       "        vertical-align: top;\n",
       "    }\n",
       "\n",
       "    .dataframe thead th {\n",
       "        text-align: right;\n",
       "    }\n",
       "</style>\n",
       "<table border=\"1\" class=\"dataframe\">\n",
       "  <thead>\n",
       "    <tr style=\"text-align: right;\">\n",
       "      <th></th>\n",
       "      <th>Date</th>\n",
       "      <th>Open</th>\n",
       "      <th>High</th>\n",
       "      <th>Low</th>\n",
       "      <th>Close</th>\n",
       "      <th>Adj Close</th>\n",
       "      <th>Volume</th>\n",
       "      <th>Stock</th>\n",
       "    </tr>\n",
       "  </thead>\n",
       "  <tbody>\n",
       "    <tr>\n",
       "      <th>0</th>\n",
       "      <td>2021-05-17</td>\n",
       "      <td>32.419998</td>\n",
       "      <td>32.500000</td>\n",
       "      <td>31.760000</td>\n",
       "      <td>31.790001</td>\n",
       "      <td>31.460169</td>\n",
       "      <td>389760.0</td>\n",
       "      <td>AC.PA</td>\n",
       "    </tr>\n",
       "    <tr>\n",
       "      <th>1</th>\n",
       "      <td>2021-05-18</td>\n",
       "      <td>32.060001</td>\n",
       "      <td>32.209999</td>\n",
       "      <td>31.600000</td>\n",
       "      <td>32.130001</td>\n",
       "      <td>31.796642</td>\n",
       "      <td>578073.0</td>\n",
       "      <td>AC.PA</td>\n",
       "    </tr>\n",
       "    <tr>\n",
       "      <th>2</th>\n",
       "      <td>2021-05-19</td>\n",
       "      <td>31.700001</td>\n",
       "      <td>31.790001</td>\n",
       "      <td>30.959999</td>\n",
       "      <td>31.520000</td>\n",
       "      <td>31.192970</td>\n",
       "      <td>765741.0</td>\n",
       "      <td>AC.PA</td>\n",
       "    </tr>\n",
       "    <tr>\n",
       "      <th>3</th>\n",
       "      <td>2021-05-20</td>\n",
       "      <td>31.799999</td>\n",
       "      <td>31.820000</td>\n",
       "      <td>31.070000</td>\n",
       "      <td>31.330000</td>\n",
       "      <td>31.004942</td>\n",
       "      <td>604361.0</td>\n",
       "      <td>AC.PA</td>\n",
       "    </tr>\n",
       "    <tr>\n",
       "      <th>4</th>\n",
       "      <td>2021-05-21</td>\n",
       "      <td>31.400000</td>\n",
       "      <td>31.980000</td>\n",
       "      <td>31.270000</td>\n",
       "      <td>31.629999</td>\n",
       "      <td>31.301828</td>\n",
       "      <td>474191.0</td>\n",
       "      <td>AC.PA</td>\n",
       "    </tr>\n",
       "  </tbody>\n",
       "</table>\n",
       "</div>"
      ],
      "text/plain": [
       "        Date       Open       High        Low      Close  Adj Close    Volume  \\\n",
       "0 2021-05-17  32.419998  32.500000  31.760000  31.790001  31.460169  389760.0   \n",
       "1 2021-05-18  32.060001  32.209999  31.600000  32.130001  31.796642  578073.0   \n",
       "2 2021-05-19  31.700001  31.790001  30.959999  31.520000  31.192970  765741.0   \n",
       "3 2021-05-20  31.799999  31.820000  31.070000  31.330000  31.004942  604361.0   \n",
       "4 2021-05-21  31.400000  31.980000  31.270000  31.629999  31.301828  474191.0   \n",
       "\n",
       "   Stock  \n",
       "0  AC.PA  \n",
       "1  AC.PA  \n",
       "2  AC.PA  \n",
       "3  AC.PA  \n",
       "4  AC.PA  "
      ]
     },
     "execution_count": 7,
     "metadata": {},
     "output_type": "execute_result"
    }
   ],
   "source": [
    "all_stock_data_df = aggregate_stocks(\n",
    "    stocks = cac40_stocks, \n",
    "    output_path = 'cac40_stock_data.csv',\n",
    "    start_date=start_date,\n",
    "    end_date=end_date\n",
    ")\n",
    "all_stock_data_df.head()"
   ]
  },
  {
   "cell_type": "markdown",
   "id": "377c2381",
   "metadata": {
    "papermill": {
     "duration": 0.008838,
     "end_time": "2023-04-08T14:22:58.401212",
     "exception": false,
     "start_time": "2023-04-08T14:22:58.392374",
     "status": "completed"
    },
    "tags": []
   },
   "source": [
    "<hr>\n",
    "<br>\n",
    "<div align='justify'><font color=\"#353B47\" size=\"4\">I appreciate your time and effort in reading this notebook. My aim is to address your questions and curiosities in a comprehensive and clear manner. I welcome any constructive feedback that will help me improve and motivate me to deliver higher quality content. My primary goal is to share knowledge and learn from others while fueling my passion for the subject. If you found this notebook valuable, please consider upvoting and sharing my work. </font></div>\n",
    "<br>\n",
    "<div align='center'><font color=\"#353B47\" size=\"3\">Thank you, and let passion be your guide.</font></div>"
   ]
  }
 ],
 "metadata": {
  "kernelspec": {
   "display_name": "Python 3 (ipykernel)",
   "language": "python",
   "name": "python3"
  },
  "language_info": {
   "codemirror_mode": {
    "name": "ipython",
    "version": 3
   },
   "file_extension": ".py",
   "mimetype": "text/x-python",
   "name": "python",
   "nbconvert_exporter": "python",
   "pygments_lexer": "ipython3",
   "version": "3.12.3"
  },
  "papermill": {
   "default_parameters": {},
   "duration": 36.211314,
   "end_time": "2023-04-08T14:22:59.133225",
   "environment_variables": {},
   "exception": null,
   "input_path": "__notebook__.ipynb",
   "output_path": "__notebook__.ipynb",
   "parameters": {},
   "start_time": "2023-04-08T14:22:22.921911",
   "version": "2.4.0"
  }
 },
 "nbformat": 4,
 "nbformat_minor": 5
}
