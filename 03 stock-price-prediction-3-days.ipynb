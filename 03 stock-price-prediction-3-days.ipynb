{
 "cells": [
  {
   "cell_type": "code",
   "execution_count": 1,
   "id": "3b35d126",
   "metadata": {
    "_cell_guid": "b1076dfc-b9ad-4769-8c92-a6c4dae69d19",
    "_uuid": "8f2839f25d086af736a60e9eeb907d3b93b6e0e5",
    "papermill": {
     "duration": 1.175329,
     "end_time": "2024-03-16T05:42:51.105520",
     "exception": false,
     "start_time": "2024-03-16T05:42:49.930191",
     "status": "completed"
    },
    "tags": []
   },
   "outputs": [],
   "source": [
    "# This Python 3 environment comes with many helpful analytics libraries installed\n",
    "# It is defined by the kaggle/python Docker image: https://github.com/kaggle/docker-python\n",
    "# For example, here's several helpful packages to load\n",
    "\n",
    "import numpy as np # linear algebra\n",
    "import pandas as pd # data processing, CSV file I/O (e.g. pd.read_csv)\n",
    "\n",
    "# Input data files are available in the read-only \"../input/\" directory\n",
    "# For example, running this (by clicking run or pressing Shift+Enter) will list all files under the input directory\n",
    "\n",
    "import os\n",
    "for dirname, _, filenames in os.walk('/kaggle/input'):\n",
    "    for filename in filenames:\n",
    "        print(os.path.join(dirname, filename))\n",
    "\n",
    "# You can write up to 20GB to the current directory (/kaggle/working/) that gets preserved as output when you create a version using \"Save & Run All\" \n",
    "# You can also write temporary files to /kaggle/temp/, but they won't be saved outside of the current session"
   ]
  },
  {
   "cell_type": "code",
   "execution_count": 3,
   "id": "def3fd9c",
   "metadata": {
    "papermill": {
     "duration": 0.29501,
     "end_time": "2024-03-16T05:42:51.408784",
     "exception": false,
     "start_time": "2024-03-16T05:42:51.113774",
     "status": "completed"
    },
    "tags": []
   },
   "outputs": [],
   "source": [
    "# Load csv\n",
    "df = pd.read_csv('preprocessed_CAC40.csv', parse_dates=['Date'])"
   ]
  },
  {
   "cell_type": "code",
   "execution_count": 4,
   "id": "541696a1",
   "metadata": {
    "papermill": {
     "duration": 0.043919,
     "end_time": "2024-03-16T05:42:51.461048",
     "exception": false,
     "start_time": "2024-03-16T05:42:51.417129",
     "status": "completed"
    },
    "tags": []
   },
   "outputs": [
    {
     "data": {
      "text/html": [
       "<div>\n",
       "<style scoped>\n",
       "    .dataframe tbody tr th:only-of-type {\n",
       "        vertical-align: middle;\n",
       "    }\n",
       "\n",
       "    .dataframe tbody tr th {\n",
       "        vertical-align: top;\n",
       "    }\n",
       "\n",
       "    .dataframe thead th {\n",
       "        text-align: right;\n",
       "    }\n",
       "</style>\n",
       "<table border=\"1\" class=\"dataframe\">\n",
       "  <thead>\n",
       "    <tr style=\"text-align: right;\">\n",
       "      <th></th>\n",
       "      <th>Unnamed: 0</th>\n",
       "      <th>Name</th>\n",
       "      <th>Date</th>\n",
       "      <th>Open</th>\n",
       "      <th>Closing_Price</th>\n",
       "      <th>Daily_High</th>\n",
       "      <th>Daily_Low</th>\n",
       "      <th>Volume</th>\n",
       "    </tr>\n",
       "  </thead>\n",
       "  <tbody>\n",
       "    <tr>\n",
       "      <th>0</th>\n",
       "      <td>0</td>\n",
       "      <td>Accor</td>\n",
       "      <td>2020-04-03</td>\n",
       "      <td>22.99</td>\n",
       "      <td>23.40</td>\n",
       "      <td>23.40</td>\n",
       "      <td>22.99</td>\n",
       "      <td>67</td>\n",
       "    </tr>\n",
       "    <tr>\n",
       "      <th>1</th>\n",
       "      <td>1</td>\n",
       "      <td>Accor</td>\n",
       "      <td>2020-04-02</td>\n",
       "      <td>23.91</td>\n",
       "      <td>22.99</td>\n",
       "      <td>23.91</td>\n",
       "      <td>22.99</td>\n",
       "      <td>250</td>\n",
       "    </tr>\n",
       "    <tr>\n",
       "      <th>2</th>\n",
       "      <td>2</td>\n",
       "      <td>Accor</td>\n",
       "      <td>2020-04-01</td>\n",
       "      <td>24.10</td>\n",
       "      <td>23.83</td>\n",
       "      <td>24.10</td>\n",
       "      <td>23.83</td>\n",
       "      <td>37</td>\n",
       "    </tr>\n",
       "    <tr>\n",
       "      <th>3</th>\n",
       "      <td>3</td>\n",
       "      <td>Accor</td>\n",
       "      <td>2020-03-31</td>\n",
       "      <td>25.04</td>\n",
       "      <td>25.00</td>\n",
       "      <td>25.24</td>\n",
       "      <td>24.99</td>\n",
       "      <td>336</td>\n",
       "    </tr>\n",
       "    <tr>\n",
       "      <th>4</th>\n",
       "      <td>4</td>\n",
       "      <td>Accor</td>\n",
       "      <td>2020-03-30</td>\n",
       "      <td>26.50</td>\n",
       "      <td>25.02</td>\n",
       "      <td>26.50</td>\n",
       "      <td>24.99</td>\n",
       "      <td>415</td>\n",
       "    </tr>\n",
       "  </tbody>\n",
       "</table>\n",
       "</div>"
      ],
      "text/plain": [
       "   Unnamed: 0   Name       Date   Open  Closing_Price  Daily_High  Daily_Low  \\\n",
       "0           0  Accor 2020-04-03  22.99          23.40       23.40      22.99   \n",
       "1           1  Accor 2020-04-02  23.91          22.99       23.91      22.99   \n",
       "2           2  Accor 2020-04-01  24.10          23.83       24.10      23.83   \n",
       "3           3  Accor 2020-03-31  25.04          25.00       25.24      24.99   \n",
       "4           4  Accor 2020-03-30  26.50          25.02       26.50      24.99   \n",
       "\n",
       "  Volume  \n",
       "0     67  \n",
       "1    250  \n",
       "2     37  \n",
       "3    336  \n",
       "4    415  "
      ]
     },
     "execution_count": 4,
     "metadata": {},
     "output_type": "execute_result"
    }
   ],
   "source": [
    "df.head()"
   ]
  },
  {
   "cell_type": "code",
   "execution_count": 5,
   "id": "fd13883a",
   "metadata": {
    "papermill": {
     "duration": 0.040793,
     "end_time": "2024-03-16T05:42:51.510366",
     "exception": false,
     "start_time": "2024-03-16T05:42:51.469573",
     "status": "completed"
    },
    "tags": []
   },
   "outputs": [
    {
     "data": {
      "text/html": [
       "<div>\n",
       "<style scoped>\n",
       "    .dataframe tbody tr th:only-of-type {\n",
       "        vertical-align: middle;\n",
       "    }\n",
       "\n",
       "    .dataframe tbody tr th {\n",
       "        vertical-align: top;\n",
       "    }\n",
       "\n",
       "    .dataframe thead th {\n",
       "        text-align: right;\n",
       "    }\n",
       "</style>\n",
       "<table border=\"1\" class=\"dataframe\">\n",
       "  <thead>\n",
       "    <tr style=\"text-align: right;\">\n",
       "      <th></th>\n",
       "      <th>Date</th>\n",
       "      <th>Open</th>\n",
       "      <th>Closing_Price</th>\n",
       "      <th>Daily_High</th>\n",
       "      <th>Daily_Low</th>\n",
       "      <th>Volume</th>\n",
       "    </tr>\n",
       "  </thead>\n",
       "  <tbody>\n",
       "    <tr>\n",
       "      <th>0</th>\n",
       "      <td>2020-04-03</td>\n",
       "      <td>22.99</td>\n",
       "      <td>23.40</td>\n",
       "      <td>23.40</td>\n",
       "      <td>22.99</td>\n",
       "      <td>67</td>\n",
       "    </tr>\n",
       "    <tr>\n",
       "      <th>1</th>\n",
       "      <td>2020-04-02</td>\n",
       "      <td>23.91</td>\n",
       "      <td>22.99</td>\n",
       "      <td>23.91</td>\n",
       "      <td>22.99</td>\n",
       "      <td>250</td>\n",
       "    </tr>\n",
       "    <tr>\n",
       "      <th>2</th>\n",
       "      <td>2020-04-01</td>\n",
       "      <td>24.10</td>\n",
       "      <td>23.83</td>\n",
       "      <td>24.10</td>\n",
       "      <td>23.83</td>\n",
       "      <td>37</td>\n",
       "    </tr>\n",
       "    <tr>\n",
       "      <th>3</th>\n",
       "      <td>2020-03-31</td>\n",
       "      <td>25.04</td>\n",
       "      <td>25.00</td>\n",
       "      <td>25.24</td>\n",
       "      <td>24.99</td>\n",
       "      <td>336</td>\n",
       "    </tr>\n",
       "    <tr>\n",
       "      <th>4</th>\n",
       "      <td>2020-03-30</td>\n",
       "      <td>26.50</td>\n",
       "      <td>25.02</td>\n",
       "      <td>26.50</td>\n",
       "      <td>24.99</td>\n",
       "      <td>415</td>\n",
       "    </tr>\n",
       "  </tbody>\n",
       "</table>\n",
       "</div>"
      ],
      "text/plain": [
       "        Date   Open  Closing_Price  Daily_High  Daily_Low Volume\n",
       "0 2020-04-03  22.99          23.40       23.40      22.99     67\n",
       "1 2020-04-02  23.91          22.99       23.91      22.99    250\n",
       "2 2020-04-01  24.10          23.83       24.10      23.83     37\n",
       "3 2020-03-31  25.04          25.00       25.24      24.99    336\n",
       "4 2020-03-30  26.50          25.02       26.50      24.99    415"
      ]
     },
     "execution_count": 5,
     "metadata": {},
     "output_type": "execute_result"
    }
   ],
   "source": [
    "# Drop unnecessary columns\n",
    "df1 = df.drop(['Unnamed: 0', 'Name'], axis=1)\n",
    "df1.head()"
   ]
  },
  {
   "cell_type": "code",
   "execution_count": 6,
   "id": "672ce7c0",
   "metadata": {
    "papermill": {
     "duration": 0.037377,
     "end_time": "2024-03-16T05:42:51.556538",
     "exception": false,
     "start_time": "2024-03-16T05:42:51.519161",
     "status": "completed"
    },
    "tags": []
   },
   "outputs": [],
   "source": [
    "# Convert date to datetime\n",
    "df1['Date'] = pd.to_datetime(df1['Date'])"
   ]
  },
  {
   "cell_type": "code",
   "execution_count": 7,
   "id": "056740f5",
   "metadata": {
    "papermill": {
     "duration": 0.024317,
     "end_time": "2024-03-16T05:42:51.589734",
     "exception": false,
     "start_time": "2024-03-16T05:42:51.565417",
     "status": "completed"
    },
    "tags": []
   },
   "outputs": [],
   "source": [
    "# Set date as index\n",
    "df1 = df1.set_index('Date')"
   ]
  },
  {
   "cell_type": "code",
   "execution_count": 8,
   "id": "402c27be",
   "metadata": {
    "papermill": {
     "duration": 0.036841,
     "end_time": "2024-03-16T05:42:51.635565",
     "exception": false,
     "start_time": "2024-03-16T05:42:51.598724",
     "status": "completed"
    },
    "tags": []
   },
   "outputs": [
    {
     "data": {
      "text/plain": [
       "Open               230\n",
       "Closing_Price        2\n",
       "Daily_High         204\n",
       "Daily_Low          204\n",
       "Volume           20453\n",
       "dtype: int64"
      ]
     },
     "execution_count": 8,
     "metadata": {},
     "output_type": "execute_result"
    }
   ],
   "source": [
    "df1.isna().sum()"
   ]
  },
  {
   "cell_type": "code",
   "execution_count": 10,
   "id": "b0670bb3",
   "metadata": {
    "papermill": {
     "duration": 2.144092,
     "end_time": "2024-03-16T05:42:53.788568",
     "exception": false,
     "start_time": "2024-03-16T05:42:51.644476",
     "status": "completed"
    },
    "tags": []
   },
   "outputs": [],
   "source": [
    "from sklearn.impute import SimpleImputer\n",
    "\n",
    "# Impute missing values with mean\n",
    "imputer = SimpleImputer(strategy='mean')\n",
    "df1[['Open', 'Closing_Price', 'Daily_High', 'Daily_Low']] = imputer.fit_transform(df1[['Open', 'Closing_Price', 'Daily_High', 'Daily_Low']])"
   ]
  },
  {
   "cell_type": "code",
   "execution_count": 11,
   "id": "e996e8e5",
   "metadata": {
    "papermill": {
     "duration": 0.087707,
     "end_time": "2024-03-16T05:42:53.885767",
     "exception": false,
     "start_time": "2024-03-16T05:42:53.798060",
     "status": "completed"
    },
    "tags": []
   },
   "outputs": [],
   "source": [
    "import numpy as np\n",
    "\n",
    "df1['Volume'] = df1['Volume'].apply(lambda x: np.nan if not isinstance(x, (int, float)) else x)"
   ]
  },
  {
   "cell_type": "code",
   "execution_count": 12,
   "id": "fa8f0b12",
   "metadata": {
    "papermill": {
     "duration": 0.026056,
     "end_time": "2024-03-16T05:42:53.920854",
     "exception": false,
     "start_time": "2024-03-16T05:42:53.894798",
     "status": "completed"
    },
    "tags": []
   },
   "outputs": [
    {
     "name": "stderr",
     "output_type": "stream",
     "text": [
      "C:\\Users\\oscar\\Anaconda\\envs\\CAC40\\Lib\\site-packages\\sklearn\\impute\\_base.py:577: UserWarning: Skipping features without any observed values: [0]. At least one non-missing value is needed for imputation with strategy='most_frequent'.\n",
      "  warnings.warn(\n"
     ]
    }
   ],
   "source": [
    "imputer = SimpleImputer(strategy='most_frequent')\n",
    "df1['Volume'] = imputer.fit_transform(df1['Volume'].values.reshape(-1, 1))"
   ]
  },
  {
   "cell_type": "code",
   "execution_count": 13,
   "id": "cb1b3e90",
   "metadata": {
    "papermill": {
     "duration": 0.023356,
     "end_time": "2024-03-16T05:42:53.954366",
     "exception": false,
     "start_time": "2024-03-16T05:42:53.931010",
     "status": "completed"
    },
    "tags": []
   },
   "outputs": [],
   "source": [
    "from sklearn.preprocessing import MinMaxScaler\n",
    "# Scale data\n",
    "scaler = MinMaxScaler()\n",
    "df1['Closing_Price'] = scaler.fit_transform(df1['Closing_Price'].values.reshape(-1, 1))"
   ]
  },
  {
   "cell_type": "code",
   "execution_count": 14,
   "id": "80c9aaef",
   "metadata": {
    "papermill": {
     "duration": 0.025442,
     "end_time": "2024-03-16T05:42:53.990782",
     "exception": false,
     "start_time": "2024-03-16T05:42:53.965340",
     "status": "completed"
    },
    "tags": []
   },
   "outputs": [],
   "source": [
    "# Create features and labels\n",
    "X = []\n",
    "y = []\n",
    "window_size = 30  # Lookback window size"
   ]
  },
  {
   "cell_type": "code",
   "execution_count": 15,
   "id": "4411d708",
   "metadata": {
    "papermill": {
     "duration": 1.821233,
     "end_time": "2024-03-16T05:42:55.825748",
     "exception": false,
     "start_time": "2024-03-16T05:42:54.004515",
     "status": "completed"
    },
    "tags": []
   },
   "outputs": [],
   "source": [
    "for i in range(window_size, len(df1) - 3):\n",
    "    X.append(df1['Closing_Price'].values[i - window_size:i])\n",
    "    y.append(df1['Closing_Price'].values[i:i + 3])"
   ]
  },
  {
   "cell_type": "code",
   "execution_count": 16,
   "id": "03908b64",
   "metadata": {
    "papermill": {
     "duration": 0.177893,
     "end_time": "2024-03-16T05:42:56.012451",
     "exception": false,
     "start_time": "2024-03-16T05:42:55.834558",
     "status": "completed"
    },
    "tags": []
   },
   "outputs": [],
   "source": [
    "import numpy as np\n",
    "X = np.array(X)\n",
    "y = np.array(y)"
   ]
  },
  {
   "cell_type": "code",
   "execution_count": 17,
   "id": "4b0f0275",
   "metadata": {
    "papermill": {
     "duration": 0.020357,
     "end_time": "2024-03-16T05:42:56.042183",
     "exception": false,
     "start_time": "2024-03-16T05:42:56.021826",
     "status": "completed"
    },
    "tags": []
   },
   "outputs": [],
   "source": [
    "# Split data into train and test sets\n",
    "split = int(0.8 * len(X))\n",
    "X_train, X_test = X[:split], X[split:]\n",
    "y_train, y_test = y[:split], y[split:]"
   ]
  },
  {
   "cell_type": "code",
   "execution_count": 18,
   "id": "73b65e59",
   "metadata": {
    "papermill": {
     "duration": 0.021905,
     "end_time": "2024-03-16T05:42:56.073045",
     "exception": false,
     "start_time": "2024-03-16T05:42:56.051140",
     "status": "completed"
    },
    "tags": []
   },
   "outputs": [],
   "source": [
    "# Reshape data for LSTM\n",
    "X_train = np.reshape(X_train, (X_train.shape[0], X_train.shape[1], 1))\n",
    "X_test = np.reshape(X_test, (X_test.shape[0], X_test.shape[1], 1))"
   ]
  },
  {
   "cell_type": "code",
   "execution_count": 20,
   "id": "46cf5c0d",
   "metadata": {
    "papermill": {
     "duration": 6033.36419,
     "end_time": "2024-03-16T07:23:29.447310",
     "exception": false,
     "start_time": "2024-03-16T05:42:56.083120",
     "status": "completed"
    },
    "scrolled": true,
    "tags": []
   },
   "outputs": [
    {
     "name": "stdout",
     "output_type": "stream",
     "text": [
      "Epoch 1/100\n"
     ]
    },
    {
     "name": "stderr",
     "output_type": "stream",
     "text": [
      "C:\\Users\\oscar\\Anaconda\\envs\\CAC40\\Lib\\site-packages\\keras\\src\\layers\\rnn\\rnn.py:204: UserWarning: Do not pass an `input_shape`/`input_dim` argument to a layer. When using Sequential models, prefer using an `Input(shape)` object as the first layer in the model instead.\n",
      "  super().__init__(**kwargs)\n"
     ]
    },
    {
     "name": "stdout",
     "output_type": "stream",
     "text": [
      "\u001b[1m2441/2441\u001b[0m \u001b[32m━━━━━━━━━━━━━━━━━━━━\u001b[0m\u001b[37m\u001b[0m \u001b[1m28s\u001b[0m 11ms/step - loss: 5.3379e-04 - val_loss: 1.4993e-05\n",
      "Epoch 2/100\n",
      "\u001b[1m2441/2441\u001b[0m \u001b[32m━━━━━━━━━━━━━━━━━━━━\u001b[0m\u001b[37m\u001b[0m \u001b[1m26s\u001b[0m 11ms/step - loss: 6.5365e-05 - val_loss: 1.2456e-05\n",
      "Epoch 3/100\n",
      "\u001b[1m2441/2441\u001b[0m \u001b[32m━━━━━━━━━━━━━━━━━━━━\u001b[0m\u001b[37m\u001b[0m \u001b[1m26s\u001b[0m 11ms/step - loss: 8.7444e-05 - val_loss: 1.2791e-05\n",
      "Epoch 4/100\n",
      "\u001b[1m2441/2441\u001b[0m \u001b[32m━━━━━━━━━━━━━━━━━━━━\u001b[0m\u001b[37m\u001b[0m \u001b[1m26s\u001b[0m 11ms/step - loss: 5.2087e-05 - val_loss: 1.0042e-05\n",
      "Epoch 5/100\n",
      "\u001b[1m2441/2441\u001b[0m \u001b[32m━━━━━━━━━━━━━━━━━━━━\u001b[0m\u001b[37m\u001b[0m \u001b[1m26s\u001b[0m 11ms/step - loss: 5.9408e-05 - val_loss: 1.8872e-05\n",
      "Epoch 6/100\n",
      "\u001b[1m2441/2441\u001b[0m \u001b[32m━━━━━━━━━━━━━━━━━━━━\u001b[0m\u001b[37m\u001b[0m \u001b[1m26s\u001b[0m 11ms/step - loss: 4.5357e-05 - val_loss: 1.1298e-05\n",
      "Epoch 7/100\n",
      "\u001b[1m2441/2441\u001b[0m \u001b[32m━━━━━━━━━━━━━━━━━━━━\u001b[0m\u001b[37m\u001b[0m \u001b[1m27s\u001b[0m 11ms/step - loss: 3.1619e-05 - val_loss: 1.1383e-05\n",
      "Epoch 8/100\n",
      "\u001b[1m2441/2441\u001b[0m \u001b[32m━━━━━━━━━━━━━━━━━━━━\u001b[0m\u001b[37m\u001b[0m \u001b[1m27s\u001b[0m 11ms/step - loss: 2.8660e-05 - val_loss: 9.8602e-06\n",
      "Epoch 9/100\n",
      "\u001b[1m2441/2441\u001b[0m \u001b[32m━━━━━━━━━━━━━━━━━━━━\u001b[0m\u001b[37m\u001b[0m \u001b[1m26s\u001b[0m 11ms/step - loss: 6.6148e-05 - val_loss: 1.0738e-05\n",
      "Epoch 10/100\n",
      "\u001b[1m2441/2441\u001b[0m \u001b[32m━━━━━━━━━━━━━━━━━━━━\u001b[0m\u001b[37m\u001b[0m \u001b[1m26s\u001b[0m 11ms/step - loss: 3.8145e-05 - val_loss: 1.0252e-05\n",
      "Epoch 11/100\n",
      "\u001b[1m2441/2441\u001b[0m \u001b[32m━━━━━━━━━━━━━━━━━━━━\u001b[0m\u001b[37m\u001b[0m \u001b[1m26s\u001b[0m 11ms/step - loss: 3.6265e-05 - val_loss: 1.5632e-05\n",
      "Epoch 12/100\n",
      "\u001b[1m2441/2441\u001b[0m \u001b[32m━━━━━━━━━━━━━━━━━━━━\u001b[0m\u001b[37m\u001b[0m \u001b[1m26s\u001b[0m 11ms/step - loss: 7.3293e-05 - val_loss: 1.0245e-05\n",
      "Epoch 13/100\n",
      "\u001b[1m2441/2441\u001b[0m \u001b[32m━━━━━━━━━━━━━━━━━━━━\u001b[0m\u001b[37m\u001b[0m \u001b[1m26s\u001b[0m 11ms/step - loss: 2.8352e-05 - val_loss: 1.0388e-05\n",
      "Epoch 14/100\n",
      "\u001b[1m2441/2441\u001b[0m \u001b[32m━━━━━━━━━━━━━━━━━━━━\u001b[0m\u001b[37m\u001b[0m \u001b[1m26s\u001b[0m 11ms/step - loss: 4.0479e-05 - val_loss: 9.9733e-06\n",
      "Epoch 15/100\n",
      "\u001b[1m2441/2441\u001b[0m \u001b[32m━━━━━━━━━━━━━━━━━━━━\u001b[0m\u001b[37m\u001b[0m \u001b[1m26s\u001b[0m 11ms/step - loss: 5.1688e-05 - val_loss: 9.9639e-06\n",
      "Epoch 16/100\n",
      "\u001b[1m2441/2441\u001b[0m \u001b[32m━━━━━━━━━━━━━━━━━━━━\u001b[0m\u001b[37m\u001b[0m \u001b[1m26s\u001b[0m 11ms/step - loss: 4.8105e-05 - val_loss: 2.3502e-05\n",
      "Epoch 17/100\n",
      "\u001b[1m2441/2441\u001b[0m \u001b[32m━━━━━━━━━━━━━━━━━━━━\u001b[0m\u001b[37m\u001b[0m \u001b[1m26s\u001b[0m 11ms/step - loss: 2.8646e-05 - val_loss: 1.1831e-05\n",
      "Epoch 18/100\n",
      "\u001b[1m2441/2441\u001b[0m \u001b[32m━━━━━━━━━━━━━━━━━━━━\u001b[0m\u001b[37m\u001b[0m \u001b[1m26s\u001b[0m 11ms/step - loss: 4.1454e-05 - val_loss: 1.1495e-05\n",
      "Epoch 19/100\n",
      "\u001b[1m2441/2441\u001b[0m \u001b[32m━━━━━━━━━━━━━━━━━━━━\u001b[0m\u001b[37m\u001b[0m \u001b[1m26s\u001b[0m 11ms/step - loss: 4.1833e-05 - val_loss: 9.9688e-06\n",
      "Epoch 20/100\n",
      "\u001b[1m2441/2441\u001b[0m \u001b[32m━━━━━━━━━━━━━━━━━━━━\u001b[0m\u001b[37m\u001b[0m \u001b[1m26s\u001b[0m 11ms/step - loss: 4.4763e-05 - val_loss: 1.2194e-05\n",
      "Epoch 21/100\n",
      "\u001b[1m2441/2441\u001b[0m \u001b[32m━━━━━━━━━━━━━━━━━━━━\u001b[0m\u001b[37m\u001b[0m \u001b[1m26s\u001b[0m 11ms/step - loss: 4.2443e-05 - val_loss: 9.7321e-06\n",
      "Epoch 22/100\n",
      "\u001b[1m2441/2441\u001b[0m \u001b[32m━━━━━━━━━━━━━━━━━━━━\u001b[0m\u001b[37m\u001b[0m \u001b[1m26s\u001b[0m 11ms/step - loss: 4.1420e-05 - val_loss: 9.7573e-06\n",
      "Epoch 23/100\n",
      "\u001b[1m2441/2441\u001b[0m \u001b[32m━━━━━━━━━━━━━━━━━━━━\u001b[0m\u001b[37m\u001b[0m \u001b[1m26s\u001b[0m 11ms/step - loss: 6.3168e-05 - val_loss: 1.2096e-05\n",
      "Epoch 24/100\n",
      "\u001b[1m2441/2441\u001b[0m \u001b[32m━━━━━━━━━━━━━━━━━━━━\u001b[0m\u001b[37m\u001b[0m \u001b[1m27s\u001b[0m 11ms/step - loss: 3.9574e-05 - val_loss: 1.1411e-05\n",
      "Epoch 25/100\n",
      "\u001b[1m2441/2441\u001b[0m \u001b[32m━━━━━━━━━━━━━━━━━━━━\u001b[0m\u001b[37m\u001b[0m \u001b[1m27s\u001b[0m 11ms/step - loss: 4.1825e-05 - val_loss: 9.7847e-06\n",
      "Epoch 26/100\n",
      "\u001b[1m2441/2441\u001b[0m \u001b[32m━━━━━━━━━━━━━━━━━━━━\u001b[0m\u001b[37m\u001b[0m \u001b[1m27s\u001b[0m 11ms/step - loss: 3.1256e-05 - val_loss: 9.7564e-06\n",
      "Epoch 27/100\n",
      "\u001b[1m2441/2441\u001b[0m \u001b[32m━━━━━━━━━━━━━━━━━━━━\u001b[0m\u001b[37m\u001b[0m \u001b[1m26s\u001b[0m 11ms/step - loss: 3.1926e-05 - val_loss: 1.0658e-05\n",
      "Epoch 28/100\n",
      "\u001b[1m2441/2441\u001b[0m \u001b[32m━━━━━━━━━━━━━━━━━━━━\u001b[0m\u001b[37m\u001b[0m \u001b[1m27s\u001b[0m 11ms/step - loss: 3.5883e-05 - val_loss: 9.8013e-06\n",
      "Epoch 29/100\n",
      "\u001b[1m2441/2441\u001b[0m \u001b[32m━━━━━━━━━━━━━━━━━━━━\u001b[0m\u001b[37m\u001b[0m \u001b[1m27s\u001b[0m 11ms/step - loss: 4.1549e-05 - val_loss: 1.0158e-05\n",
      "Epoch 30/100\n",
      "\u001b[1m2441/2441\u001b[0m \u001b[32m━━━━━━━━━━━━━━━━━━━━\u001b[0m\u001b[37m\u001b[0m \u001b[1m27s\u001b[0m 11ms/step - loss: 3.4908e-05 - val_loss: 1.0749e-05\n",
      "Epoch 31/100\n",
      "\u001b[1m2441/2441\u001b[0m \u001b[32m━━━━━━━━━━━━━━━━━━━━\u001b[0m\u001b[37m\u001b[0m \u001b[1m26s\u001b[0m 11ms/step - loss: 3.2238e-05 - val_loss: 1.0152e-05\n",
      "Epoch 32/100\n",
      "\u001b[1m2441/2441\u001b[0m \u001b[32m━━━━━━━━━━━━━━━━━━━━\u001b[0m\u001b[37m\u001b[0m \u001b[1m27s\u001b[0m 11ms/step - loss: 3.6807e-05 - val_loss: 1.3153e-05\n",
      "Epoch 33/100\n",
      "\u001b[1m2441/2441\u001b[0m \u001b[32m━━━━━━━━━━━━━━━━━━━━\u001b[0m\u001b[37m\u001b[0m \u001b[1m27s\u001b[0m 11ms/step - loss: 4.0304e-05 - val_loss: 1.3445e-05\n",
      "Epoch 34/100\n",
      "\u001b[1m2441/2441\u001b[0m \u001b[32m━━━━━━━━━━━━━━━━━━━━\u001b[0m\u001b[37m\u001b[0m \u001b[1m27s\u001b[0m 11ms/step - loss: 3.3140e-05 - val_loss: 1.0364e-05\n",
      "Epoch 35/100\n",
      "\u001b[1m2441/2441\u001b[0m \u001b[32m━━━━━━━━━━━━━━━━━━━━\u001b[0m\u001b[37m\u001b[0m \u001b[1m27s\u001b[0m 11ms/step - loss: 4.9430e-05 - val_loss: 1.0059e-05\n",
      "Epoch 36/100\n",
      "\u001b[1m2441/2441\u001b[0m \u001b[32m━━━━━━━━━━━━━━━━━━━━\u001b[0m\u001b[37m\u001b[0m \u001b[1m28s\u001b[0m 12ms/step - loss: 4.7034e-05 - val_loss: 1.2005e-05\n",
      "Epoch 37/100\n",
      "\u001b[1m2441/2441\u001b[0m \u001b[32m━━━━━━━━━━━━━━━━━━━━\u001b[0m\u001b[37m\u001b[0m \u001b[1m27s\u001b[0m 11ms/step - loss: 3.2892e-05 - val_loss: 1.0055e-05\n",
      "Epoch 38/100\n",
      "\u001b[1m2441/2441\u001b[0m \u001b[32m━━━━━━━━━━━━━━━━━━━━\u001b[0m\u001b[37m\u001b[0m \u001b[1m27s\u001b[0m 11ms/step - loss: 2.5690e-05 - val_loss: 1.0845e-05\n",
      "Epoch 39/100\n",
      "\u001b[1m2441/2441\u001b[0m \u001b[32m━━━━━━━━━━━━━━━━━━━━\u001b[0m\u001b[37m\u001b[0m \u001b[1m26s\u001b[0m 11ms/step - loss: 4.7236e-05 - val_loss: 1.0857e-05\n",
      "Epoch 40/100\n",
      "\u001b[1m2441/2441\u001b[0m \u001b[32m━━━━━━━━━━━━━━━━━━━━\u001b[0m\u001b[37m\u001b[0m \u001b[1m27s\u001b[0m 11ms/step - loss: 3.5157e-05 - val_loss: 1.4026e-05\n",
      "Epoch 41/100\n",
      "\u001b[1m2441/2441\u001b[0m \u001b[32m━━━━━━━━━━━━━━━━━━━━\u001b[0m\u001b[37m\u001b[0m \u001b[1m27s\u001b[0m 11ms/step - loss: 5.2970e-05 - val_loss: 1.0048e-05\n",
      "Epoch 42/100\n",
      "\u001b[1m2441/2441\u001b[0m \u001b[32m━━━━━━━━━━━━━━━━━━━━\u001b[0m\u001b[37m\u001b[0m \u001b[1m27s\u001b[0m 11ms/step - loss: 5.4158e-05 - val_loss: 9.7835e-06\n",
      "Epoch 43/100\n",
      "\u001b[1m2441/2441\u001b[0m \u001b[32m━━━━━━━━━━━━━━━━━━━━\u001b[0m\u001b[37m\u001b[0m \u001b[1m28s\u001b[0m 11ms/step - loss: 4.0579e-05 - val_loss: 9.9587e-06\n",
      "Epoch 44/100\n",
      "\u001b[1m2441/2441\u001b[0m \u001b[32m━━━━━━━━━━━━━━━━━━━━\u001b[0m\u001b[37m\u001b[0m \u001b[1m34s\u001b[0m 14ms/step - loss: 6.2537e-05 - val_loss: 9.8280e-06\n",
      "Epoch 45/100\n",
      "\u001b[1m2441/2441\u001b[0m \u001b[32m━━━━━━━━━━━━━━━━━━━━\u001b[0m\u001b[37m\u001b[0m \u001b[1m34s\u001b[0m 14ms/step - loss: 3.7288e-05 - val_loss: 1.5792e-05\n",
      "Epoch 46/100\n",
      "\u001b[1m2441/2441\u001b[0m \u001b[32m━━━━━━━━━━━━━━━━━━━━\u001b[0m\u001b[37m\u001b[0m \u001b[1m34s\u001b[0m 14ms/step - loss: 6.0720e-05 - val_loss: 1.0847e-05\n",
      "Epoch 47/100\n",
      "\u001b[1m2441/2441\u001b[0m \u001b[32m━━━━━━━━━━━━━━━━━━━━\u001b[0m\u001b[37m\u001b[0m \u001b[1m34s\u001b[0m 14ms/step - loss: 3.3867e-05 - val_loss: 1.1831e-05\n",
      "Epoch 48/100\n",
      "\u001b[1m2441/2441\u001b[0m \u001b[32m━━━━━━━━━━━━━━━━━━━━\u001b[0m\u001b[37m\u001b[0m \u001b[1m35s\u001b[0m 14ms/step - loss: 2.5476e-05 - val_loss: 1.0527e-05\n",
      "Epoch 49/100\n",
      "\u001b[1m2441/2441\u001b[0m \u001b[32m━━━━━━━━━━━━━━━━━━━━\u001b[0m\u001b[37m\u001b[0m \u001b[1m34s\u001b[0m 14ms/step - loss: 3.5297e-05 - val_loss: 1.0797e-05\n",
      "Epoch 50/100\n",
      "\u001b[1m2441/2441\u001b[0m \u001b[32m━━━━━━━━━━━━━━━━━━━━\u001b[0m\u001b[37m\u001b[0m \u001b[1m35s\u001b[0m 14ms/step - loss: 4.3950e-05 - val_loss: 1.0075e-05\n",
      "Epoch 51/100\n",
      "\u001b[1m2441/2441\u001b[0m \u001b[32m━━━━━━━━━━━━━━━━━━━━\u001b[0m\u001b[37m\u001b[0m \u001b[1m36s\u001b[0m 15ms/step - loss: 3.0815e-05 - val_loss: 9.9479e-06\n",
      "Epoch 52/100\n",
      "\u001b[1m2441/2441\u001b[0m \u001b[32m━━━━━━━━━━━━━━━━━━━━\u001b[0m\u001b[37m\u001b[0m \u001b[1m30s\u001b[0m 12ms/step - loss: 3.1270e-05 - val_loss: 1.1366e-05\n",
      "Epoch 53/100\n",
      "\u001b[1m2441/2441\u001b[0m \u001b[32m━━━━━━━━━━━━━━━━━━━━\u001b[0m\u001b[37m\u001b[0m \u001b[1m27s\u001b[0m 11ms/step - loss: 3.4301e-05 - val_loss: 9.7162e-06\n",
      "Epoch 54/100\n",
      "\u001b[1m2441/2441\u001b[0m \u001b[32m━━━━━━━━━━━━━━━━━━━━\u001b[0m\u001b[37m\u001b[0m \u001b[1m27s\u001b[0m 11ms/step - loss: 2.7561e-05 - val_loss: 1.0038e-05\n",
      "Epoch 55/100\n",
      "\u001b[1m2441/2441\u001b[0m \u001b[32m━━━━━━━━━━━━━━━━━━━━\u001b[0m\u001b[37m\u001b[0m \u001b[1m27s\u001b[0m 11ms/step - loss: 4.2949e-05 - val_loss: 1.1059e-05\n",
      "Epoch 56/100\n",
      "\u001b[1m2441/2441\u001b[0m \u001b[32m━━━━━━━━━━━━━━━━━━━━\u001b[0m\u001b[37m\u001b[0m \u001b[1m27s\u001b[0m 11ms/step - loss: 3.1978e-05 - val_loss: 1.1325e-05\n",
      "Epoch 57/100\n",
      "\u001b[1m2441/2441\u001b[0m \u001b[32m━━━━━━━━━━━━━━━━━━━━\u001b[0m\u001b[37m\u001b[0m \u001b[1m28s\u001b[0m 11ms/step - loss: 4.5716e-05 - val_loss: 1.1090e-05\n",
      "Epoch 58/100\n",
      "\u001b[1m2441/2441\u001b[0m \u001b[32m━━━━━━━━━━━━━━━━━━━━\u001b[0m\u001b[37m\u001b[0m \u001b[1m28s\u001b[0m 11ms/step - loss: 3.0030e-05 - val_loss: 1.0123e-05\n",
      "Epoch 59/100\n",
      "\u001b[1m2441/2441\u001b[0m \u001b[32m━━━━━━━━━━━━━━━━━━━━\u001b[0m\u001b[37m\u001b[0m \u001b[1m27s\u001b[0m 11ms/step - loss: 3.9082e-05 - val_loss: 1.0178e-05\n",
      "Epoch 60/100\n",
      "\u001b[1m2441/2441\u001b[0m \u001b[32m━━━━━━━━━━━━━━━━━━━━\u001b[0m\u001b[37m\u001b[0m \u001b[1m27s\u001b[0m 11ms/step - loss: 2.3435e-05 - val_loss: 1.0888e-05\n",
      "Epoch 61/100\n",
      "\u001b[1m2441/2441\u001b[0m \u001b[32m━━━━━━━━━━━━━━━━━━━━\u001b[0m\u001b[37m\u001b[0m \u001b[1m27s\u001b[0m 11ms/step - loss: 5.0211e-05 - val_loss: 1.4055e-05\n",
      "Epoch 62/100\n",
      "\u001b[1m2441/2441\u001b[0m \u001b[32m━━━━━━━━━━━━━━━━━━━━\u001b[0m\u001b[37m\u001b[0m \u001b[1m27s\u001b[0m 11ms/step - loss: 4.2292e-05 - val_loss: 9.9858e-06\n",
      "Epoch 63/100\n",
      "\u001b[1m2441/2441\u001b[0m \u001b[32m━━━━━━━━━━━━━━━━━━━━\u001b[0m\u001b[37m\u001b[0m \u001b[1m27s\u001b[0m 11ms/step - loss: 3.3917e-05 - val_loss: 1.2017e-05\n",
      "Epoch 64/100\n",
      "\u001b[1m2441/2441\u001b[0m \u001b[32m━━━━━━━━━━━━━━━━━━━━\u001b[0m\u001b[37m\u001b[0m \u001b[1m27s\u001b[0m 11ms/step - loss: 3.8147e-05 - val_loss: 1.1480e-05\n",
      "Epoch 65/100\n",
      "\u001b[1m2441/2441\u001b[0m \u001b[32m━━━━━━━━━━━━━━━━━━━━\u001b[0m\u001b[37m\u001b[0m \u001b[1m27s\u001b[0m 11ms/step - loss: 3.5351e-05 - val_loss: 1.0287e-05\n",
      "Epoch 66/100\n",
      "\u001b[1m2441/2441\u001b[0m \u001b[32m━━━━━━━━━━━━━━━━━━━━\u001b[0m\u001b[37m\u001b[0m \u001b[1m27s\u001b[0m 11ms/step - loss: 3.7663e-05 - val_loss: 9.9930e-06\n",
      "Epoch 67/100\n",
      "\u001b[1m2441/2441\u001b[0m \u001b[32m━━━━━━━━━━━━━━━━━━━━\u001b[0m\u001b[37m\u001b[0m \u001b[1m29s\u001b[0m 12ms/step - loss: 4.6022e-05 - val_loss: 1.1815e-05\n",
      "Epoch 68/100\n",
      "\u001b[1m2441/2441\u001b[0m \u001b[32m━━━━━━━━━━━━━━━━━━━━\u001b[0m\u001b[37m\u001b[0m \u001b[1m30s\u001b[0m 12ms/step - loss: 5.9404e-05 - val_loss: 1.0013e-05\n",
      "Epoch 69/100\n",
      "\u001b[1m2441/2441\u001b[0m \u001b[32m━━━━━━━━━━━━━━━━━━━━\u001b[0m\u001b[37m\u001b[0m \u001b[1m29s\u001b[0m 12ms/step - loss: 3.2013e-05 - val_loss: 1.3510e-05\n",
      "Epoch 70/100\n",
      "\u001b[1m2441/2441\u001b[0m \u001b[32m━━━━━━━━━━━━━━━━━━━━\u001b[0m\u001b[37m\u001b[0m \u001b[1m28s\u001b[0m 11ms/step - loss: 4.5369e-05 - val_loss: 9.6925e-06\n",
      "Epoch 71/100\n",
      "\u001b[1m2441/2441\u001b[0m \u001b[32m━━━━━━━━━━━━━━━━━━━━\u001b[0m\u001b[37m\u001b[0m \u001b[1m27s\u001b[0m 11ms/step - loss: 5.5980e-05 - val_loss: 1.1580e-05\n",
      "Epoch 72/100\n",
      "\u001b[1m2441/2441\u001b[0m \u001b[32m━━━━━━━━━━━━━━━━━━━━\u001b[0m\u001b[37m\u001b[0m \u001b[1m27s\u001b[0m 11ms/step - loss: 3.5704e-05 - val_loss: 9.8913e-06\n",
      "Epoch 73/100\n",
      "\u001b[1m2441/2441\u001b[0m \u001b[32m━━━━━━━━━━━━━━━━━━━━\u001b[0m\u001b[37m\u001b[0m \u001b[1m28s\u001b[0m 11ms/step - loss: 3.2693e-05 - val_loss: 9.8831e-06\n",
      "Epoch 74/100\n",
      "\u001b[1m2441/2441\u001b[0m \u001b[32m━━━━━━━━━━━━━━━━━━━━\u001b[0m\u001b[37m\u001b[0m \u001b[1m28s\u001b[0m 11ms/step - loss: 5.3296e-05 - val_loss: 1.0553e-05\n",
      "Epoch 75/100\n",
      "\u001b[1m2441/2441\u001b[0m \u001b[32m━━━━━━━━━━━━━━━━━━━━\u001b[0m\u001b[37m\u001b[0m \u001b[1m27s\u001b[0m 11ms/step - loss: 3.7518e-05 - val_loss: 1.0518e-05\n",
      "Epoch 76/100\n",
      "\u001b[1m2441/2441\u001b[0m \u001b[32m━━━━━━━━━━━━━━━━━━━━\u001b[0m\u001b[37m\u001b[0m \u001b[1m27s\u001b[0m 11ms/step - loss: 3.6413e-05 - val_loss: 9.9028e-06\n",
      "Epoch 77/100\n",
      "\u001b[1m2441/2441\u001b[0m \u001b[32m━━━━━━━━━━━━━━━━━━━━\u001b[0m\u001b[37m\u001b[0m \u001b[1m27s\u001b[0m 11ms/step - loss: 4.3193e-05 - val_loss: 9.7318e-06\n",
      "Epoch 78/100\n",
      "\u001b[1m2441/2441\u001b[0m \u001b[32m━━━━━━━━━━━━━━━━━━━━\u001b[0m\u001b[37m\u001b[0m \u001b[1m27s\u001b[0m 11ms/step - loss: 2.3205e-05 - val_loss: 1.3137e-05\n",
      "Epoch 79/100\n",
      "\u001b[1m2441/2441\u001b[0m \u001b[32m━━━━━━━━━━━━━━━━━━━━\u001b[0m\u001b[37m\u001b[0m \u001b[1m27s\u001b[0m 11ms/step - loss: 4.2740e-05 - val_loss: 1.0006e-05\n",
      "Epoch 80/100\n",
      "\u001b[1m2441/2441\u001b[0m \u001b[32m━━━━━━━━━━━━━━━━━━━━\u001b[0m\u001b[37m\u001b[0m \u001b[1m27s\u001b[0m 11ms/step - loss: 4.4946e-05 - val_loss: 9.9416e-06\n",
      "Epoch 81/100\n",
      "\u001b[1m2441/2441\u001b[0m \u001b[32m━━━━━━━━━━━━━━━━━━━━\u001b[0m\u001b[37m\u001b[0m \u001b[1m28s\u001b[0m 11ms/step - loss: 3.1158e-05 - val_loss: 1.1166e-05\n",
      "Epoch 82/100\n",
      "\u001b[1m2441/2441\u001b[0m \u001b[32m━━━━━━━━━━━━━━━━━━━━\u001b[0m\u001b[37m\u001b[0m \u001b[1m28s\u001b[0m 11ms/step - loss: 7.6837e-05 - val_loss: 9.7553e-06\n",
      "Epoch 83/100\n",
      "\u001b[1m2441/2441\u001b[0m \u001b[32m━━━━━━━━━━━━━━━━━━━━\u001b[0m\u001b[37m\u001b[0m \u001b[1m28s\u001b[0m 11ms/step - loss: 4.0127e-05 - val_loss: 9.8084e-06\n",
      "Epoch 84/100\n",
      "\u001b[1m2441/2441\u001b[0m \u001b[32m━━━━━━━━━━━━━━━━━━━━\u001b[0m\u001b[37m\u001b[0m \u001b[1m28s\u001b[0m 12ms/step - loss: 2.7745e-05 - val_loss: 9.9588e-06\n",
      "Epoch 85/100\n",
      "\u001b[1m2441/2441\u001b[0m \u001b[32m━━━━━━━━━━━━━━━━━━━━\u001b[0m\u001b[37m\u001b[0m \u001b[1m28s\u001b[0m 11ms/step - loss: 4.2324e-05 - val_loss: 9.6827e-06\n",
      "Epoch 86/100\n",
      "\u001b[1m2441/2441\u001b[0m \u001b[32m━━━━━━━━━━━━━━━━━━━━\u001b[0m\u001b[37m\u001b[0m \u001b[1m27s\u001b[0m 11ms/step - loss: 3.6738e-05 - val_loss: 1.0014e-05\n",
      "Epoch 87/100\n",
      "\u001b[1m2441/2441\u001b[0m \u001b[32m━━━━━━━━━━━━━━━━━━━━\u001b[0m\u001b[37m\u001b[0m \u001b[1m27s\u001b[0m 11ms/step - loss: 2.8649e-05 - val_loss: 9.9236e-06\n",
      "Epoch 88/100\n",
      "\u001b[1m2441/2441\u001b[0m \u001b[32m━━━━━━━━━━━━━━━━━━━━\u001b[0m\u001b[37m\u001b[0m \u001b[1m28s\u001b[0m 11ms/step - loss: 6.3321e-05 - val_loss: 9.9921e-06\n",
      "Epoch 89/100\n",
      "\u001b[1m2441/2441\u001b[0m \u001b[32m━━━━━━━━━━━━━━━━━━━━\u001b[0m\u001b[37m\u001b[0m \u001b[1m27s\u001b[0m 11ms/step - loss: 6.4116e-05 - val_loss: 1.0206e-05\n",
      "Epoch 90/100\n",
      "\u001b[1m2441/2441\u001b[0m \u001b[32m━━━━━━━━━━━━━━━━━━━━\u001b[0m\u001b[37m\u001b[0m \u001b[1m27s\u001b[0m 11ms/step - loss: 4.0101e-05 - val_loss: 1.0380e-05\n",
      "Epoch 91/100\n",
      "\u001b[1m2441/2441\u001b[0m \u001b[32m━━━━━━━━━━━━━━━━━━━━\u001b[0m\u001b[37m\u001b[0m \u001b[1m27s\u001b[0m 11ms/step - loss: 3.7376e-05 - val_loss: 1.0169e-05\n",
      "Epoch 92/100\n",
      "\u001b[1m2441/2441\u001b[0m \u001b[32m━━━━━━━━━━━━━━━━━━━━\u001b[0m\u001b[37m\u001b[0m \u001b[1m28s\u001b[0m 11ms/step - loss: 3.5643e-05 - val_loss: 1.0829e-05\n",
      "Epoch 93/100\n",
      "\u001b[1m2441/2441\u001b[0m \u001b[32m━━━━━━━━━━━━━━━━━━━━\u001b[0m\u001b[37m\u001b[0m \u001b[1m27s\u001b[0m 11ms/step - loss: 5.2211e-05 - val_loss: 9.7322e-06\n",
      "Epoch 94/100\n",
      "\u001b[1m2441/2441\u001b[0m \u001b[32m━━━━━━━━━━━━━━━━━━━━\u001b[0m\u001b[37m\u001b[0m \u001b[1m26s\u001b[0m 11ms/step - loss: 3.7059e-05 - val_loss: 9.9657e-06\n",
      "Epoch 95/100\n",
      "\u001b[1m2441/2441\u001b[0m \u001b[32m━━━━━━━━━━━━━━━━━━━━\u001b[0m\u001b[37m\u001b[0m \u001b[1m28s\u001b[0m 11ms/step - loss: 3.9350e-05 - val_loss: 1.1638e-05\n",
      "Epoch 96/100\n",
      "\u001b[1m2441/2441\u001b[0m \u001b[32m━━━━━━━━━━━━━━━━━━━━\u001b[0m\u001b[37m\u001b[0m \u001b[1m27s\u001b[0m 11ms/step - loss: 3.7763e-05 - val_loss: 9.8325e-06\n",
      "Epoch 97/100\n",
      "\u001b[1m2441/2441\u001b[0m \u001b[32m━━━━━━━━━━━━━━━━━━━━\u001b[0m\u001b[37m\u001b[0m \u001b[1m27s\u001b[0m 11ms/step - loss: 3.5185e-05 - val_loss: 1.0137e-05\n",
      "Epoch 98/100\n",
      "\u001b[1m2441/2441\u001b[0m \u001b[32m━━━━━━━━━━━━━━━━━━━━\u001b[0m\u001b[37m\u001b[0m \u001b[1m28s\u001b[0m 11ms/step - loss: 5.6393e-05 - val_loss: 1.0024e-05\n",
      "Epoch 99/100\n",
      "\u001b[1m2441/2441\u001b[0m \u001b[32m━━━━━━━━━━━━━━━━━━━━\u001b[0m\u001b[37m\u001b[0m \u001b[1m27s\u001b[0m 11ms/step - loss: 6.1311e-05 - val_loss: 1.0628e-05\n",
      "Epoch 100/100\n",
      "\u001b[1m2441/2441\u001b[0m \u001b[32m━━━━━━━━━━━━━━━━━━━━\u001b[0m\u001b[37m\u001b[0m \u001b[1m27s\u001b[0m 11ms/step - loss: 2.8762e-05 - val_loss: 9.9708e-06\n"
     ]
    },
    {
     "data": {
      "text/plain": [
       "<keras.src.callbacks.history.History at 0x22287ea64e0>"
      ]
     },
     "execution_count": 20,
     "metadata": {},
     "output_type": "execute_result"
    }
   ],
   "source": [
    "from tensorflow.keras.models import Sequential\n",
    "from tensorflow.keras.layers import LSTM, Dense\n",
    "# Build and train LSTM model\n",
    "model = Sequential()\n",
    "model.add(LSTM(64, input_shape=(window_size, 1)))\n",
    "model.add(Dense(3))  # Output shape: (None, 3) for 3-day prediction\n",
    "model.compile(optimizer='adam', loss='mse')\n",
    "model.fit(X_train, y_train, epochs=100, batch_size=32, validation_data=(X_test, y_test))"
   ]
  },
  {
   "cell_type": "code",
   "execution_count": 21,
   "id": "a015379a",
   "metadata": {
    "papermill": {
     "duration": 11.902955,
     "end_time": "2024-03-16T07:23:48.085801",
     "exception": false,
     "start_time": "2024-03-16T07:23:36.182846",
     "status": "completed"
    },
    "tags": []
   },
   "outputs": [
    {
     "name": "stdout",
     "output_type": "stream",
     "text": [
      "\u001b[1m611/611\u001b[0m \u001b[32m━━━━━━━━━━━━━━━━━━━━\u001b[0m\u001b[37m\u001b[0m \u001b[1m4s\u001b[0m 7ms/step\n"
     ]
    }
   ],
   "source": [
    "# Make predictions\n",
    "predictions = model.predict(X_test)\n",
    "predictions = scaler.inverse_transform(predictions)"
   ]
  },
  {
   "cell_type": "code",
   "execution_count": 22,
   "id": "b0e9e553",
   "metadata": {
    "papermill": {
     "duration": 6.69475,
     "end_time": "2024-03-16T07:24:01.389185",
     "exception": false,
     "start_time": "2024-03-16T07:23:54.694435",
     "status": "completed"
    },
    "tags": []
   },
   "outputs": [
    {
     "data": {
      "text/plain": [
       "array([[101.32367  , 101.22325  , 101.55544  ],\n",
       "       [100.30066  , 100.21634  , 100.560974 ],\n",
       "       [ 98.45176  ,  98.33214  ,  98.66827  ],\n",
       "       ...,\n",
       "       [ 15.859193 ,  15.853813 ,  15.760165 ],\n",
       "       [ 15.8467045,  15.834369 ,  15.737604 ],\n",
       "       [ 15.857397 ,  15.843631 ,  15.7476225]], dtype=float32)"
      ]
     },
     "execution_count": 22,
     "metadata": {},
     "output_type": "execute_result"
    }
   ],
   "source": [
    "predictions"
   ]
  },
  {
   "cell_type": "code",
   "execution_count": 23,
   "id": "b64ad9ff",
   "metadata": {
    "papermill": {
     "duration": 6.820641,
     "end_time": "2024-03-16T07:24:14.814074",
     "exception": false,
     "start_time": "2024-03-16T07:24:07.993433",
     "status": "completed"
    },
    "tags": []
   },
   "outputs": [
    {
     "name": "stdout",
     "output_type": "stream",
     "text": [
      "RMSE: 2.2754994435350335\n"
     ]
    }
   ],
   "source": [
    "from sklearn.metrics import mean_squared_error\n",
    "# Get the actual values from y_test\n",
    "y_test = scaler.inverse_transform(y_test)\n",
    "\n",
    "# Calculate the RMSE\n",
    "rmse = np.sqrt(mean_squared_error(y_test, predictions))\n",
    "print(f\"RMSE: {rmse}\")"
   ]
  },
  {
   "cell_type": "code",
   "execution_count": 24,
   "id": "c144445b",
   "metadata": {
    "papermill": {
     "duration": 6.717814,
     "end_time": "2024-03-16T07:24:28.246186",
     "exception": false,
     "start_time": "2024-03-16T07:24:21.528372",
     "status": "completed"
    },
    "tags": []
   },
   "outputs": [
    {
     "name": "stdout",
     "output_type": "stream",
     "text": [
      "MAE: 0.9947485477818668\n",
      "MAPE: 0.02742461649811966\n"
     ]
    }
   ],
   "source": [
    "from sklearn.metrics import mean_absolute_error, mean_absolute_percentage_error\n",
    "\n",
    "mae = mean_absolute_error(y_test, predictions)\n",
    "mape = mean_absolute_percentage_error(y_test, predictions)\n",
    "print(f\"MAE: {mae}\")\n",
    "print(f\"MAPE: {mape}\")"
   ]
  },
  {
   "cell_type": "code",
   "execution_count": null,
   "id": "71ba684b",
   "metadata": {
    "papermill": {
     "duration": 6.66336,
     "end_time": "2024-03-16T07:24:41.501066",
     "exception": false,
     "start_time": "2024-03-16T07:24:34.837706",
     "status": "completed"
    },
    "tags": []
   },
   "outputs": [],
   "source": []
  },
  {
   "cell_type": "code",
   "execution_count": null,
   "id": "71552a9e-6343-414a-9519-1b46bbd5a706",
   "metadata": {},
   "outputs": [],
   "source": []
  }
 ],
 "metadata": {
  "kaggle": {
   "accelerator": "none",
   "dataSources": [
    {
     "datasetId": 588108,
     "sourceId": 5346992,
     "sourceType": "datasetVersion"
    }
   ],
   "dockerImageVersionId": 30664,
   "isGpuEnabled": false,
   "isInternetEnabled": true,
   "language": "python",
   "sourceType": "notebook"
  },
  "kernelspec": {
   "display_name": "Python 3 (ipykernel)",
   "language": "python",
   "name": "python3"
  },
  "language_info": {
   "codemirror_mode": {
    "name": "ipython",
    "version": 3
   },
   "file_extension": ".py",
   "mimetype": "text/x-python",
   "name": "python",
   "nbconvert_exporter": "python",
   "pygments_lexer": "ipython3",
   "version": "3.12.3"
  },
  "papermill": {
   "default_parameters": {},
   "duration": 6125.758356,
   "end_time": "2024-03-16T07:24:51.604641",
   "environment_variables": {},
   "exception": null,
   "input_path": "__notebook__.ipynb",
   "output_path": "__notebook__.ipynb",
   "parameters": {},
   "start_time": "2024-03-16T05:42:45.846285",
   "version": "2.5.0"
  }
 },
 "nbformat": 4,
 "nbformat_minor": 5
}
